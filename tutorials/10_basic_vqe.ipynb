{
 "cells": [
  {
   "cell_type": "markdown",
   "id": "40f73387",
   "metadata": {},
   "source": [
    "# Basic mitigated VQE"
   ]
  },
  {
   "cell_type": "code",
   "execution_count": 1,
   "id": "59bf709a",
   "metadata": {
    "execution": {
     "iopub.execute_input": "2024-09-24T17:07:28.969594Z",
     "iopub.status.busy": "2024-09-24T17:07:28.969423Z",
     "iopub.status.idle": "2024-09-24T17:07:29.848221Z",
     "shell.execute_reply": "2024-09-24T17:07:29.847540Z"
    }
   },
   "outputs": [],
   "source": [
    "import numpy as np\n",
    "import scipy.optimize as opt\n",
    "from qiskit import *\n",
    "from qiskit.circuit.library import TwoLocal\n",
    "from qiskit_ibm_runtime.fake_provider import FakeAthensV2\n",
    "import mthree"
   ]
  },
  {
   "cell_type": "markdown",
   "id": "31ded95c",
   "metadata": {},
   "source": [
    "## Setup problem\n",
    "\n",
    "Here we define the Hamiltonian in terms of `(coefficient, operator string)` pairs, where the right-most element of the strings correspond to qubit 0."
   ]
  },
  {
   "cell_type": "code",
   "execution_count": 2,
   "id": "f3dc45e9",
   "metadata": {
    "execution": {
     "iopub.execute_input": "2024-09-24T17:07:29.850536Z",
     "iopub.status.busy": "2024-09-24T17:07:29.850251Z",
     "iopub.status.idle": "2024-09-24T17:07:29.853341Z",
     "shell.execute_reply": "2024-09-24T17:07:29.852849Z"
    }
   },
   "outputs": [],
   "source": [
    "H_op = [(0.39793742484318045, 'YZ'), (-0.39793742484318045, 'ZI'),\n",
    "       (-0.01128010425623538, 'ZZ'), (0.18093119978423156, 'XX')]"
   ]
  },
  {
   "cell_type": "markdown",
   "id": "defa8739",
   "metadata": {},
   "source": [
    "We also need to define our guess (ansatz) for the form of the target statevector:"
   ]
  },
  {
   "cell_type": "code",
   "execution_count": 3,
   "id": "778d9570",
   "metadata": {
    "execution": {
     "iopub.execute_input": "2024-09-24T17:07:29.855034Z",
     "iopub.status.busy": "2024-09-24T17:07:29.854856Z",
     "iopub.status.idle": "2024-09-24T17:07:29.859209Z",
     "shell.execute_reply": "2024-09-24T17:07:29.858698Z"
    }
   },
   "outputs": [],
   "source": [
    "ansatz = TwoLocal(2, rotation_blocks='ry', entanglement_blocks='cx')  "
   ]
  },
  {
   "cell_type": "markdown",
   "id": "645c8440",
   "metadata": {},
   "source": [
    "## Extract the needed data\n",
    "\n",
    "First we need an array of the coefficients, and a list of the operator strings."
   ]
  },
  {
   "cell_type": "code",
   "execution_count": 4,
   "id": "ab7470cc",
   "metadata": {
    "execution": {
     "iopub.execute_input": "2024-09-24T17:07:29.860915Z",
     "iopub.status.busy": "2024-09-24T17:07:29.860741Z",
     "iopub.status.idle": "2024-09-24T17:07:29.863780Z",
     "shell.execute_reply": "2024-09-24T17:07:29.863318Z"
    }
   },
   "outputs": [],
   "source": [
    "coeffs = np.array([item[0] for item in H_op], dtype=float)\n",
    "op_strings = [item[1] for item in H_op]"
   ]
  },
  {
   "cell_type": "markdown",
   "id": "9aafffdd",
   "metadata": {},
   "source": [
    "Next, we need to make circuits that perform the needed post-rotations needed for the measurements defined by the `op_strings`.  We need a function to do this:"
   ]
  },
  {
   "cell_type": "code",
   "execution_count": 5,
   "id": "f6910748",
   "metadata": {
    "execution": {
     "iopub.execute_input": "2024-09-24T17:07:29.865531Z",
     "iopub.status.busy": "2024-09-24T17:07:29.865351Z",
     "iopub.status.idle": "2024-09-24T17:07:29.869388Z",
     "shell.execute_reply": "2024-09-24T17:07:29.868906Z"
    }
   },
   "outputs": [],
   "source": [
    "def opstr_to_meas_circ(op_str):\n",
    "    \"\"\"Takes a list of operator strings and makes circuit with the correct post-rotations for measurements.\n",
    "    \n",
    "    Parameters:\n",
    "        op_str (list): List of strings representing the operators needed for measurements.\n",
    "        \n",
    "    Returns:\n",
    "        list: List of circuits for measurement post-rotations\n",
    "    \"\"\"\n",
    "    num_qubits = len(op_str[0])\n",
    "    circs = []\n",
    "    for op in op_str:\n",
    "        qc = QuantumCircuit(num_qubits)\n",
    "        for idx, item in enumerate(op):\n",
    "            if item == 'X':\n",
    "                qc.h(num_qubits-idx-1)\n",
    "            elif item == 'Y':\n",
    "                qc.sdg(num_qubits-idx-1)\n",
    "                qc.h(num_qubits-idx-1)\n",
    "        circs.append(qc)\n",
    "    return circs"
   ]
  },
  {
   "cell_type": "markdown",
   "id": "b504f2cd",
   "metadata": {},
   "source": [
    "Next we actual grab the measurement circuits:"
   ]
  },
  {
   "cell_type": "code",
   "execution_count": 6,
   "id": "436ad823",
   "metadata": {
    "execution": {
     "iopub.execute_input": "2024-09-24T17:07:29.871019Z",
     "iopub.status.busy": "2024-09-24T17:07:29.870842Z",
     "iopub.status.idle": "2024-09-24T17:07:29.873649Z",
     "shell.execute_reply": "2024-09-24T17:07:29.873181Z"
    }
   },
   "outputs": [],
   "source": [
    "meas_circs = opstr_to_meas_circ(op_strings)"
   ]
  },
  {
   "cell_type": "markdown",
   "id": "d91fbc72",
   "metadata": {},
   "source": [
    "Having both the ansatz and measurement circuits in hand we can now combine them and add measurements.  (Qiskit does not let us combine circuits with classical registers to ones that do not.  Thus we have to do things in a bit of an odd way here)"
   ]
  },
  {
   "cell_type": "code",
   "execution_count": 7,
   "id": "95553c66",
   "metadata": {
    "execution": {
     "iopub.execute_input": "2024-09-24T17:07:29.875375Z",
     "iopub.status.busy": "2024-09-24T17:07:29.875195Z",
     "iopub.status.idle": "2024-09-24T17:07:29.880941Z",
     "shell.execute_reply": "2024-09-24T17:07:29.880449Z"
    }
   },
   "outputs": [],
   "source": [
    "full_circs = [ansatz.compose(meas_circs[kk]).measure_all(inplace=False) for kk in range(len(meas_circs))]"
   ]
  },
  {
   "cell_type": "markdown",
   "id": "b76a4fc6",
   "metadata": {},
   "source": [
    "Lastly, we need the strings that will tell the expectation value function which diagonal operators to use.  Because we have added post-rotations to each circuit for the `X` and `Y` measurements, these strings need to be converted to `Z`:"
   ]
  },
  {
   "cell_type": "code",
   "execution_count": 8,
   "id": "62a5e3a1",
   "metadata": {
    "execution": {
     "iopub.execute_input": "2024-09-24T17:07:29.882876Z",
     "iopub.status.busy": "2024-09-24T17:07:29.882524Z",
     "iopub.status.idle": "2024-09-24T17:07:29.888604Z",
     "shell.execute_reply": "2024-09-24T17:07:29.887979Z"
    }
   },
   "outputs": [
    {
     "data": {
      "text/plain": [
       "['ZZ', 'ZI', 'ZZ', 'ZZ']"
      ]
     },
     "execution_count": 8,
     "metadata": {},
     "output_type": "execute_result"
    }
   ],
   "source": [
    "meas_strings = [string.replace('X', 'Z').replace('Y', 'Z') for string in op_strings]\n",
    "meas_strings"
   ]
  },
  {
   "cell_type": "markdown",
   "id": "a8a57780",
   "metadata": {},
   "source": [
    "## Run the problem"
   ]
  },
  {
   "cell_type": "markdown",
   "id": "d59c8e2e",
   "metadata": {},
   "source": [
    "First we need to set the backend, and compile the circuits for it:"
   ]
  },
  {
   "cell_type": "code",
   "execution_count": 9,
   "id": "a3894301",
   "metadata": {
    "execution": {
     "iopub.execute_input": "2024-09-24T17:07:29.890426Z",
     "iopub.status.busy": "2024-09-24T17:07:29.890237Z",
     "iopub.status.idle": "2024-09-24T17:07:30.176224Z",
     "shell.execute_reply": "2024-09-24T17:07:30.175378Z"
    }
   },
   "outputs": [],
   "source": [
    "backend = FakeAthensV2()\n",
    "trans_circs = transpile(full_circs, backend)"
   ]
  },
  {
   "cell_type": "markdown",
   "id": "71eee304",
   "metadata": {},
   "source": [
    "One example compield circuit is:"
   ]
  },
  {
   "cell_type": "code",
   "execution_count": 10,
   "id": "5cf88ecb",
   "metadata": {
    "execution": {
     "iopub.execute_input": "2024-09-24T17:07:30.178920Z",
     "iopub.status.busy": "2024-09-24T17:07:30.178373Z",
     "iopub.status.idle": "2024-09-24T17:07:31.102659Z",
     "shell.execute_reply": "2024-09-24T17:07:31.102004Z"
    }
   },
   "outputs": [
    {
     "data": {
      "image/png": "[encoded data removed]",
      "text/plain": [
       "<Figure size 2088.52x535.111 with 1 Axes>"
      ]
     },
     "execution_count": 10,
     "metadata": {},
     "output_type": "execute_result"
    }
   ],
   "source": [
    "trans_circs[0].draw('mpl')"
   ]
  },
  {
   "cell_type": "markdown",
   "id": "1c601fb7",
   "metadata": {},
   "source": [
    "We now need to set the starting point of the VQE iterations.  This means selecting a set of initial parameters to pass to the parameterized circuits.  Here we select ones close to a solution vector:"
   ]
  },
  {
   "cell_type": "code",
   "execution_count": 11,
   "id": "2fbb2377",
   "metadata": {
    "execution": {
     "iopub.execute_input": "2024-09-24T17:07:31.104954Z",
     "iopub.status.busy": "2024-09-24T17:07:31.104479Z",
     "iopub.status.idle": "2024-09-24T17:07:31.107899Z",
     "shell.execute_reply": "2024-09-24T17:07:31.107429Z"
    }
   },
   "outputs": [],
   "source": [
    "num_params = ansatz.num_parameters\n",
    "params = np.array([1.22253725, 0.39053752, 0.21462153, 5.48308027,\n",
    "                   2.06984514, 3.65227416, 4.01911194, 0.35749589])\n",
    "params += 0.05*(np.random.random(params.shape[0])-0.5)"
   ]
  },
  {
   "cell_type": "markdown",
   "id": "ebd97503",
   "metadata": {},
   "source": [
    "Now we are in a position to actually calibrate the M3 mitigator and run the algorithm:"
   ]
  },
  {
   "cell_type": "code",
   "execution_count": 12,
   "id": "c9d6bc03",
   "metadata": {
    "execution": {
     "iopub.execute_input": "2024-09-24T17:07:31.109772Z",
     "iopub.status.busy": "2024-09-24T17:07:31.109413Z",
     "iopub.status.idle": "2024-09-24T17:07:31.474688Z",
     "shell.execute_reply": "2024-09-24T17:07:31.474017Z"
    }
   },
   "outputs": [
    {
     "data": {
      "text/plain": [
       "[<qiskit.primitives.primitive_job.PrimitiveJob at 0x7f3397ee0b80>]"
      ]
     },
     "execution_count": 12,
     "metadata": {},
     "output_type": "execute_result"
    }
   ],
   "source": [
    "mit = mthree.M3Mitigation(backend)\n",
    "mit.cals_from_system([0,1])"
   ]
  },
  {
   "cell_type": "markdown",
   "id": "f8b9d4e5",
   "metadata": {},
   "source": [
    "The function used to actually compute the cost function (energy) is given as:"
   ]
  },
  {
   "cell_type": "code",
   "execution_count": 13,
   "id": "1310dff0",
   "metadata": {
    "execution": {
     "iopub.execute_input": "2024-09-24T17:07:31.476790Z",
     "iopub.status.busy": "2024-09-24T17:07:31.476415Z",
     "iopub.status.idle": "2024-09-24T17:07:31.480408Z",
     "shell.execute_reply": "2024-09-24T17:07:31.479879Z"
    }
   },
   "outputs": [],
   "source": [
    "def vqe_func(params, *args):\n",
    "    # Attach parameters to the transpiled circuit variables\n",
    "    bound_circs = [circ.assign_parameters(params) for circ in trans_circs]\n",
    "    # Submit the job and get the resultant counts back\n",
    "    counts = backend.run(bound_circs, shots=4096).result().get_counts()\n",
    "    # Apply mitigation to get quasi-probabilities\n",
    "    quasis = mit.apply_correction(counts, [0,1])\n",
    "    # Evaluate the coefficients times each expectation value obtained from quasi-probabilities and sum.\n",
    "    energy = np.sum(coeffs*quasis.expval(meas_strings))\n",
    "    return energy"
   ]
  },
  {
   "cell_type": "markdown",
   "id": "b8a4c3d5",
   "metadata": {},
   "source": [
    "Finally, we can now execute the VQE function using one of the solvers from SciPy, returning the solution for the minimum energy and the associated parameters:"
   ]
  },
  {
   "cell_type": "code",
   "execution_count": 14,
   "id": "b6a67663",
   "metadata": {
    "execution": {
     "iopub.execute_input": "2024-09-24T17:07:31.482238Z",
     "iopub.status.busy": "2024-09-24T17:07:31.482021Z",
     "iopub.status.idle": "2024-09-24T17:07:37.031480Z",
     "shell.execute_reply": "2024-09-24T17:07:37.030890Z"
    }
   },
   "outputs": [],
   "source": [
    "res = opt.minimize(vqe_func, params, method = 'COBYLA')"
   ]
  },
  {
   "cell_type": "code",
   "execution_count": 15,
   "id": "5ce74849",
   "metadata": {
    "execution": {
     "iopub.execute_input": "2024-09-24T17:07:37.033762Z",
     "iopub.status.busy": "2024-09-24T17:07:37.033367Z",
     "iopub.status.idle": "2024-09-24T17:07:37.037146Z",
     "shell.execute_reply": "2024-09-24T17:07:37.036642Z"
    }
   },
   "outputs": [
    {
     "name": "stdout",
     "output_type": "stream",
     "text": [
      "-0.4263892933572873\n",
      "[1.20347243 0.41645424 0.09508888 5.6101487  2.04790598 3.65835594\n",
      " 4.02883167 0.37432917]\n"
     ]
    }
   ],
   "source": [
    "print(res.fun)\n",
    "print(np.mod(res.x, 2*np.pi))"
   ]
  },
  {
   "cell_type": "markdown",
   "id": "b1a547b8",
   "metadata": {},
   "source": [
    "The optimal solution is around: `-0.44841884382998787`"
   ]
  },
  {
   "cell_type": "code",
   "execution_count": null,
   "id": "2ecb16a9",
   "metadata": {},
   "outputs": [],
   "source": []
  }
 ],
 "metadata": {
  "kernelspec": {
   "display_name": "Python 3",
   "language": "python",
   "name": "python3"
  },
  "language_info": {
   "codemirror_mode": {
    "name": "ipython",
    "version": 3
   },
   "file_extension": ".py",
   "mimetype": "text/x-python",
   "name": "python",
   "nbconvert_exporter": "python",
   "pygments_lexer": "ipython3",
   "version": "3.10.12"
  }
 },
 "nbformat": 4,
 "nbformat_minor": 5
}
