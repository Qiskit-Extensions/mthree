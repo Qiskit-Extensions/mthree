{
 "cells": [
  {
   "cell_type": "markdown",
   "id": "54191476",
   "metadata": {},
   "source": [
    "# Quantum Volume\n",
    "\n",
    "Here we show off using the expectation value functionality of the M3 distribution classes using Quantum Volume (QV) as an example.  Here we formulate QV as an expectation value of a projector onto the heavy-output elements on a distribution."
   ]
  },
  {
   "cell_type": "code",
   "execution_count": 1,
   "id": "c1b69009",
   "metadata": {
    "execution": {
     "iopub.execute_input": "2024-02-09T17:16:13.925914Z",
     "iopub.status.busy": "2024-02-09T17:16:13.925727Z",
     "iopub.status.idle": "2024-02-09T17:16:14.386814Z",
     "shell.execute_reply": "2024-02-09T17:16:14.386047Z"
    }
   },
   "outputs": [],
   "source": [
    "import numpy as np\n",
    "from qiskit import *\n",
    "from qiskit.quantum_info import Statevector\n",
    "from qiskit.circuit.library import QuantumVolume\n",
    "import mthree"
   ]
  },
  {
   "cell_type": "code",
   "execution_count": 2,
   "id": "cdd59933",
   "metadata": {
    "execution": {
     "iopub.execute_input": "2024-02-09T17:16:14.389777Z",
     "iopub.status.busy": "2024-02-09T17:16:14.389478Z",
     "iopub.status.idle": "2024-02-09T17:16:14.781663Z",
     "shell.execute_reply": "2024-02-09T17:16:14.781042Z"
    }
   },
   "outputs": [],
   "source": [
    "from qiskit_ibm_runtime.fake_provider import FakeBurlington\n",
    "noisy_sim = FakeBurlington()"
   ]
  },
  {
   "cell_type": "markdown",
   "id": "0118fe34",
   "metadata": {},
   "source": [
    "QV is defined in terms of heavy-ouputs of a distribution.  Heavy-outputs are those bit-strings that are those that have probabilities above the median value of the distribution.  Below we define the projection operator onto the set of bit-strings that are heavy-outputs for a given distribution."
   ]
  },
  {
   "cell_type": "code",
   "execution_count": 3,
   "id": "ccf57f8b",
   "metadata": {
    "execution": {
     "iopub.execute_input": "2024-02-09T17:16:14.784552Z",
     "iopub.status.busy": "2024-02-09T17:16:14.784265Z",
     "iopub.status.idle": "2024-02-09T17:16:14.788410Z",
     "shell.execute_reply": "2024-02-09T17:16:14.787768Z"
    }
   },
   "outputs": [],
   "source": [
    "def heavy_projector(qv_probs):\n",
    "    \"\"\"Forms the projection operator onto the heavy-outputs of a given probability distribution.\n",
    "    \n",
    "    Parameters:\n",
    "        qv_probs (dict): A dictionary of bitstrings and associated probabilities.\n",
    "        \n",
    "    Returns:\n",
    "        dict: Projector onto the heavy-set.\n",
    "    \"\"\"\n",
    "    median_prob = np.median(list(qv_probs.values()))\n",
    "    heavy_strs = {}\n",
    "    for key, val in qv_probs.items():\n",
    "        if val > median_prob:\n",
    "            heavy_strs[key] = 1\n",
    "    return heavy_strs"
   ]
  },
  {
   "cell_type": "markdown",
   "id": "1b267a08",
   "metadata": {},
   "source": [
    "Now we generate 10 QV circuits as our dataset."
   ]
  },
  {
   "cell_type": "code",
   "execution_count": 4,
   "id": "2db632a1",
   "metadata": {
    "execution": {
     "iopub.execute_input": "2024-02-09T17:16:14.790847Z",
     "iopub.status.busy": "2024-02-09T17:16:14.790659Z",
     "iopub.status.idle": "2024-02-09T17:16:14.984174Z",
     "shell.execute_reply": "2024-02-09T17:16:14.983416Z"
    }
   },
   "outputs": [],
   "source": [
    "# Generate QV circuits\n",
    "N = 10\n",
    "qv_circs = [QuantumVolume(5) for _ in range(N)]"
   ]
  },
  {
   "cell_type": "markdown",
   "id": "e0698f04",
   "metadata": {},
   "source": [
    "Next, we have to determine the heavy-set of each circuit from the ideal answer, and then pass this along to our heavy-set projector function that we defined above."
   ]
  },
  {
   "cell_type": "code",
   "execution_count": 5,
   "id": "911f8110",
   "metadata": {
    "execution": {
     "iopub.execute_input": "2024-02-09T17:16:14.987370Z",
     "iopub.status.busy": "2024-02-09T17:16:14.987037Z",
     "iopub.status.idle": "2024-02-09T17:16:15.008235Z",
     "shell.execute_reply": "2024-02-09T17:16:15.007592Z"
    }
   },
   "outputs": [],
   "source": [
    "# Compute ideal distributions and projectors on the heavy set.\n",
    "ideal_probs = [Statevector.from_instruction(circ).probabilities_dict() for circ in qv_circs]\n",
    "heavy_projectors = [heavy_projector(probs) for probs in ideal_probs]"
   ]
  },
  {
   "cell_type": "markdown",
   "id": "f45f1074",
   "metadata": {},
   "source": [
    "Now, in preparation for actual execution, we add measurements to the end of our QV circuits, and compile them for the target device"
   ]
  },
  {
   "cell_type": "code",
   "execution_count": 6,
   "id": "87e116f2",
   "metadata": {
    "execution": {
     "iopub.execute_input": "2024-02-09T17:16:15.010748Z",
     "iopub.status.busy": "2024-02-09T17:16:15.010550Z",
     "iopub.status.idle": "2024-02-09T17:16:15.715955Z",
     "shell.execute_reply": "2024-02-09T17:16:15.715180Z"
    }
   },
   "outputs": [],
   "source": [
    "# Add meauserements to circuits and transpile\n",
    "trans_circs = transpile([circ.measure_all(inplace=False) for circ in qv_circs], noisy_sim,\n",
    "                        layout_method='sabre', routing_method='sabre', optimization_level=3)"
   ]
  },
  {
   "cell_type": "markdown",
   "id": "460e1859",
   "metadata": {},
   "source": [
    "Because the SWAP mapping of the circuit permutes the qubit states, we need the final measurement mapping for each circuit to know which physical qubit corresponds to each measured bit:"
   ]
  },
  {
   "cell_type": "code",
   "execution_count": 7,
   "id": "f2b71415",
   "metadata": {
    "execution": {
     "iopub.execute_input": "2024-02-09T17:16:15.719472Z",
     "iopub.status.busy": "2024-02-09T17:16:15.719242Z",
     "iopub.status.idle": "2024-02-09T17:16:15.722620Z",
     "shell.execute_reply": "2024-02-09T17:16:15.721891Z"
    }
   },
   "outputs": [],
   "source": [
    "# Determine final qubit mappings\n",
    "maps = mthree.utils.final_measurement_mapping(trans_circs)"
   ]
  },
  {
   "cell_type": "markdown",
   "id": "2134ff49",
   "metadata": {},
   "source": [
    "We now calibrate our M3 mitigator over only those qubits used in the QV circuits. (We use the `independent` method since it is much faster to do so on a simulator.)  We can directly pass the maps to the calibrtion routine and it will calibrate over the ful lset of qubits used in the mappings."
   ]
  },
  {
   "cell_type": "code",
   "execution_count": 8,
   "id": "254a4dbe",
   "metadata": {
    "execution": {
     "iopub.execute_input": "2024-02-09T17:16:15.724968Z",
     "iopub.status.busy": "2024-02-09T17:16:15.724771Z",
     "iopub.status.idle": "2024-02-09T17:16:15.950292Z",
     "shell.execute_reply": "2024-02-09T17:16:15.949653Z"
    }
   },
   "outputs": [],
   "source": [
    "mit = mthree.M3Mitigation(noisy_sim)\n",
    "mit.cals_from_system(maps, method='independent')"
   ]
  },
  {
   "cell_type": "markdown",
   "id": "5257a761",
   "metadata": {},
   "source": [
    "We are now ready to execute the circuits on the target backend, and mitigate the resulting raw counts.  Here we directly pass the maps which will internally be converted into the correct qubit lists:"
   ]
  },
  {
   "cell_type": "code",
   "execution_count": 9,
   "id": "39b5d818",
   "metadata": {
    "execution": {
     "iopub.execute_input": "2024-02-09T17:16:15.953091Z",
     "iopub.status.busy": "2024-02-09T17:16:15.952870Z",
     "iopub.status.idle": "2024-02-09T17:16:16.171149Z",
     "shell.execute_reply": "2024-02-09T17:16:16.170422Z"
    }
   },
   "outputs": [],
   "source": [
    "# Execute circuits and mitigate\n",
    "raw_counts = noisy_sim.run(trans_circs, shots=8192).result().get_counts()\n",
    "quasi_collection = mit.apply_correction(raw_counts, maps)"
   ]
  },
  {
   "cell_type": "markdown",
   "id": "32b82cd1",
   "metadata": {},
   "source": [
    "The value needed to determine if each circuit represents a passing QV value is determined by the expectation value of the heavy projector for each circuit.  First let us evaluate the raw counts using the M3 utils function `expval`:"
   ]
  },
  {
   "cell_type": "code",
   "execution_count": 10,
   "id": "ea0bccad",
   "metadata": {
    "execution": {
     "iopub.execute_input": "2024-02-09T17:16:16.174063Z",
     "iopub.status.busy": "2024-02-09T17:16:16.173836Z",
     "iopub.status.idle": "2024-02-09T17:16:16.180763Z",
     "shell.execute_reply": "2024-02-09T17:16:16.180156Z"
    }
   },
   "outputs": [
    {
     "data": {
      "text/plain": [
       "array([0.63513184, 0.75012207, 0.68225098, 0.62915039, 0.66003418,\n",
       "       0.65527344, 0.7701416 , 0.65112305, 0.68835449, 0.62768555])"
      ]
     },
     "execution_count": 10,
     "metadata": {},
     "output_type": "execute_result"
    }
   ],
   "source": [
    "raw_expvals = mthree.utils.expval(raw_counts, heavy_projectors)\n",
    "raw_expvals"
   ]
  },
  {
   "cell_type": "markdown",
   "id": "06967139",
   "metadata": {},
   "source": [
    "A passing QV score is one where the expectation value is above 2/3:"
   ]
  },
  {
   "cell_type": "code",
   "execution_count": 11,
   "id": "5a2aab4e",
   "metadata": {
    "execution": {
     "iopub.execute_input": "2024-02-09T17:16:16.183019Z",
     "iopub.status.busy": "2024-02-09T17:16:16.182833Z",
     "iopub.status.idle": "2024-02-09T17:16:16.186886Z",
     "shell.execute_reply": "2024-02-09T17:16:16.186346Z"
    }
   },
   "outputs": [
    {
     "data": {
      "text/plain": [
       "array([False,  True,  True, False, False, False,  True, False,  True,\n",
       "       False])"
      ]
     },
     "execution_count": 11,
     "metadata": {},
     "output_type": "execute_result"
    }
   ],
   "source": [
    "raw_expvals > 2/3"
   ]
  },
  {
   "cell_type": "markdown",
   "id": "6dc4d37d",
   "metadata": {},
   "source": [
    "Now let us do the same analysis for the mitigated data:"
   ]
  },
  {
   "cell_type": "code",
   "execution_count": 12,
   "id": "b8136595",
   "metadata": {
    "execution": {
     "iopub.execute_input": "2024-02-09T17:16:16.189030Z",
     "iopub.status.busy": "2024-02-09T17:16:16.188826Z",
     "iopub.status.idle": "2024-02-09T17:16:16.193343Z",
     "shell.execute_reply": "2024-02-09T17:16:16.192767Z"
    }
   },
   "outputs": [
    {
     "data": {
      "text/plain": [
       "array([0.65374136, 0.77838064, 0.7097122 , 0.6563072 , 0.69029696,\n",
       "       0.66761368, 0.821572  , 0.69019842, 0.72133004, 0.65638178])"
      ]
     },
     "execution_count": 12,
     "metadata": {},
     "output_type": "execute_result"
    }
   ],
   "source": [
    "# Determine expectation value of heavy set prjector\n",
    "mit_expvals = quasi_collection.expval(heavy_projectors)\n",
    "mit_expvals"
   ]
  },
  {
   "cell_type": "code",
   "execution_count": 13,
   "id": "ac23ea82",
   "metadata": {
    "execution": {
     "iopub.execute_input": "2024-02-09T17:16:16.195607Z",
     "iopub.status.busy": "2024-02-09T17:16:16.195415Z",
     "iopub.status.idle": "2024-02-09T17:16:16.199184Z",
     "shell.execute_reply": "2024-02-09T17:16:16.198558Z"
    }
   },
   "outputs": [
    {
     "data": {
      "text/plain": [
       "array([False,  True,  True, False,  True,  True,  True,  True,  True,\n",
       "       False])"
      ]
     },
     "execution_count": 13,
     "metadata": {},
     "output_type": "execute_result"
    }
   ],
   "source": [
    "# Check if the scores are passing or not\n",
    "mit_expvals > 2/3"
   ]
  },
  {
   "cell_type": "code",
   "execution_count": null,
   "id": "93b1ff8d",
   "metadata": {},
   "outputs": [],
   "source": []
  }
 ],
 "metadata": {
  "kernelspec": {
   "display_name": "Python 3",
   "language": "python",
   "name": "python3"
  },
  "language_info": {
   "codemirror_mode": {
    "name": "ipython",
    "version": 3
   },
   "file_extension": ".py",
   "mimetype": "text/x-python",
   "name": "python",
   "nbconvert_exporter": "python",
   "pygments_lexer": "ipython3",
   "version": "3.9.16"
  }
 },
 "nbformat": 4,
 "nbformat_minor": 5
}
