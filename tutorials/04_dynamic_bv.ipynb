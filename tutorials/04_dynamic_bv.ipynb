{
 "cells": [
  {
   "cell_type": "markdown",
   "id": "10752407",
   "metadata": {},
   "source": [
    "# Dynamic Bernstein–Vazirani\n",
    "\n",
    "Here we will demonstrate correcting mid-circuit measurements using the dynamic version of the Bernstein-Vazirani algorithm."
   ]
  },
  {
   "cell_type": "markdown",
   "id": "85182300",
   "metadata": {},
   "source": [
    "## Frontmatter"
   ]
  },
  {
   "cell_type": "code",
   "execution_count": 1,
   "id": "266cc8a8",
   "metadata": {
    "execution": {
     "iopub.execute_input": "2024-02-08T15:49:58.949984Z",
     "iopub.status.busy": "2024-02-08T15:49:58.949795Z",
     "iopub.status.idle": "2024-02-08T15:50:00.068577Z",
     "shell.execute_reply": "2024-02-08T15:50:00.067943Z"
    }
   },
   "outputs": [],
   "source": [
    "import numpy as np\n",
    "\n",
    "from qiskit import *\n",
    "from qiskit_ibm_runtime.fake_provider import FakeKolkata, FakeKolkataV2\n",
    "\n",
    "import mthree\n",
    "\n",
    "import matplotlib.pyplot as plt\n",
    "plt.style.use('quantum-light')"
   ]
  },
  {
   "cell_type": "markdown",
   "id": "f525e286",
   "metadata": {},
   "source": [
    "Set target noisy simulator"
   ]
  },
  {
   "cell_type": "code",
   "execution_count": 2,
   "id": "58ffe72d",
   "metadata": {
    "execution": {
     "iopub.execute_input": "2024-02-08T15:50:00.071743Z",
     "iopub.status.busy": "2024-02-08T15:50:00.071434Z",
     "iopub.status.idle": "2024-02-08T15:50:00.076339Z",
     "shell.execute_reply": "2024-02-08T15:50:00.075728Z"
    }
   },
   "outputs": [],
   "source": [
    "backend = FakeKolkata()"
   ]
  },
  {
   "cell_type": "markdown",
   "id": "bf4a7348",
   "metadata": {},
   "source": [
    "## Circuit generation function"
   ]
  },
  {
   "cell_type": "code",
   "execution_count": 3,
   "id": "a13ef235",
   "metadata": {
    "execution": {
     "iopub.execute_input": "2024-02-08T15:50:00.078755Z",
     "iopub.status.busy": "2024-02-08T15:50:00.078577Z",
     "iopub.status.idle": "2024-02-08T15:50:00.083160Z",
     "shell.execute_reply": "2024-02-08T15:50:00.082560Z"
    }
   },
   "outputs": [],
   "source": [
    "def dynamic_bv(bitstring):\n",
    "    \"\"\"Create a Bernstein-Vazirani circuit from a given bitstring.\n",
    "\n",
    "    Parameters:\n",
    "        bitstring (str): A bitstring.\n",
    "\n",
    "    Returns:\n",
    "        QuantumCircuit: Output circuit.\n",
    "    \"\"\"\n",
    "    qc = QuantumCircuit(2, len(bitstring))\n",
    "\n",
    "    # Prepare the |-x> state on target qubit\n",
    "    qc.x(1)\n",
    "    qc.h(1)\n",
    "\n",
    "    # For each bit (0 or 1) build a simple circuit block\n",
    "    for idx, bit in enumerate(bitstring[::-1]):\n",
    "\n",
    "        # Initial H gate on control\n",
    "        qc.h(0)\n",
    "        # If bit=1, do a CNOT gate\n",
    "        if int(bit):\n",
    "            qc.cx(0, 1)\n",
    "        # Final H gate to convert phase to computational-basis\n",
    "        qc.h(0)\n",
    "        # Measure\n",
    "        qc.measure(0, idx)\n",
    "\n",
    "        # If not at the final bit, recycle and reset qubits\n",
    "        if idx != (len(bitstring)-1):\n",
    "            # Reset control qubit for reuse\n",
    "            qc.reset(0)\n",
    "            # reset target qubit to minimize dephasing\n",
    "            qc.reset(1)\n",
    "            # Prepare the |-x> state on target qubit again\n",
    "            qc.x(1)\n",
    "            qc.h(1)\n",
    "\n",
    "    return qc"
   ]
  },
  {
   "cell_type": "markdown",
   "id": "7b6bdda5",
   "metadata": {},
   "source": [
    "## Problem setup\n",
    "\n",
    "First we select a range of bit-string lengths to generate.  We then use this range to make all-ones bit-string circuits of those lengths."
   ]
  },
  {
   "cell_type": "code",
   "execution_count": 4,
   "id": "4035c605",
   "metadata": {
    "execution": {
     "iopub.execute_input": "2024-02-08T15:50:00.085419Z",
     "iopub.status.busy": "2024-02-08T15:50:00.085220Z",
     "iopub.status.idle": "2024-02-08T15:50:00.129183Z",
     "shell.execute_reply": "2024-02-08T15:50:00.128534Z"
    }
   },
   "outputs": [],
   "source": [
    "bit_range = range(2, 31)\n",
    "\n",
    "circs = [dynamic_bv('1'*N) for N in bit_range]"
   ]
  },
  {
   "cell_type": "markdown",
   "id": "0af63b89",
   "metadata": {},
   "source": [
    "Next, we transpile the circuits for our target backend (simulator in this case):"
   ]
  },
  {
   "cell_type": "code",
   "execution_count": 5,
   "id": "d0b0a248",
   "metadata": {
    "execution": {
     "iopub.execute_input": "2024-02-08T15:50:00.131613Z",
     "iopub.status.busy": "2024-02-08T15:50:00.131413Z",
     "iopub.status.idle": "2024-02-08T15:50:01.514455Z",
     "shell.execute_reply": "2024-02-08T15:50:01.513792Z"
    }
   },
   "outputs": [],
   "source": [
    "trans_circs = transpile(circs, backend, optimization_level=3)"
   ]
  },
  {
   "cell_type": "markdown",
   "id": "351abdbd",
   "metadata": {},
   "source": [
    "Next, we determine which qubits are measured to which classical bits using the `final_measurement_mapping` utility:"
   ]
  },
  {
   "cell_type": "code",
   "execution_count": 6,
   "id": "6a4f0e3c",
   "metadata": {
    "execution": {
     "iopub.execute_input": "2024-02-08T15:50:01.517454Z",
     "iopub.status.busy": "2024-02-08T15:50:01.517226Z",
     "iopub.status.idle": "2024-02-08T15:50:01.528470Z",
     "shell.execute_reply": "2024-02-08T15:50:01.527845Z"
    }
   },
   "outputs": [
    {
     "data": {
      "text/plain": [
       "[{0: 25, 1: 25}, {0: 25, 1: 25, 2: 25}, {0: 25, 1: 25, 2: 25, 3: 25}]"
      ]
     },
     "execution_count": 6,
     "metadata": {},
     "output_type": "execute_result"
    }
   ],
   "source": [
    "mappings = mthree.utils.final_measurement_mapping(trans_circs)\n",
    "# Show a few of the mappings\n",
    "mappings[:3]"
   ]
  },
  {
   "cell_type": "markdown",
   "id": "3ccc9c1f",
   "metadata": {},
   "source": [
    "Lets draw the 0th circuit to verify that the mapping is indeed correct:"
   ]
  },
  {
   "cell_type": "code",
   "execution_count": 7,
   "id": "a726d241",
   "metadata": {
    "execution": {
     "iopub.execute_input": "2024-02-08T15:50:01.530778Z",
     "iopub.status.busy": "2024-02-08T15:50:01.530589Z",
     "iopub.status.idle": "2024-02-08T15:50:01.843988Z",
     "shell.execute_reply": "2024-02-08T15:50:01.843269Z"
    }
   },
   "outputs": [
    {
     "data": {
      "image/png": "[encoded data removed]",
      "text/plain": [
       "<Figure size 1040.65x204.68 with 1 Axes>"
      ]
     },
     "execution_count": 7,
     "metadata": {},
     "output_type": "execute_result"
    }
   ],
   "source": [
    "trans_circs[0].draw('mpl', idle_wires=False)"
   ]
  },
  {
   "cell_type": "markdown",
   "id": "a0083079",
   "metadata": {},
   "source": [
    "## Run experiment and mitigate\n",
    "\n",
    "Here we execute the dynamic BV ciruits at 10,000 shots each."
   ]
  },
  {
   "cell_type": "code",
   "execution_count": 8,
   "id": "39192677",
   "metadata": {
    "execution": {
     "iopub.execute_input": "2024-02-08T15:50:01.846527Z",
     "iopub.status.busy": "2024-02-08T15:50:01.846323Z",
     "iopub.status.idle": "2024-02-08T15:50:15.107756Z",
     "shell.execute_reply": "2024-02-08T15:50:15.107131Z"
    }
   },
   "outputs": [],
   "source": [
    "shots = int(1e4)\n",
    "counts = backend.run(trans_circs, shots=shots).result().get_counts()"
   ]
  },
  {
   "cell_type": "markdown",
   "id": "82097098",
   "metadata": {},
   "source": [
    "Next we follow the usual M3 receipe to mitigate the counts.  Note that the `mappings`\n",
    "have all the necessary information for correcting mid-circuit measurements."
   ]
  },
  {
   "cell_type": "code",
   "execution_count": 9,
   "id": "592d0854",
   "metadata": {
    "execution": {
     "iopub.execute_input": "2024-02-08T15:50:15.110770Z",
     "iopub.status.busy": "2024-02-08T15:50:15.110562Z",
     "iopub.status.idle": "2024-02-08T15:50:15.113492Z",
     "shell.execute_reply": "2024-02-08T15:50:15.112851Z"
    }
   },
   "outputs": [],
   "source": [
    "mit = mthree.M3Mitigation(backend)"
   ]
  },
  {
   "cell_type": "code",
   "execution_count": 10,
   "id": "d4be2c97",
   "metadata": {
    "execution": {
     "iopub.execute_input": "2024-02-08T15:50:15.115647Z",
     "iopub.status.busy": "2024-02-08T15:50:15.115453Z",
     "iopub.status.idle": "2024-02-08T15:50:15.424009Z",
     "shell.execute_reply": "2024-02-08T15:50:15.423392Z"
    }
   },
   "outputs": [],
   "source": [
    "mit.cals_from_system(mappings)"
   ]
  },
  {
   "cell_type": "code",
   "execution_count": 11,
   "id": "aff1709b",
   "metadata": {
    "execution": {
     "iopub.execute_input": "2024-02-08T15:50:15.426883Z",
     "iopub.status.busy": "2024-02-08T15:50:15.426670Z",
     "iopub.status.idle": "2024-02-08T15:50:15.464407Z",
     "shell.execute_reply": "2024-02-08T15:50:15.463791Z"
    }
   },
   "outputs": [],
   "source": [
    "quasis = mit.apply_correction(counts, mappings)"
   ]
  },
  {
   "cell_type": "markdown",
   "id": "2c4ec256",
   "metadata": {},
   "source": [
    "Because we generated all-ones bit-strings, our success criteria is the probability of being found in that state.  We can extract this probabilty from both the raw counts and the mitigated quasi-distributions"
   ]
  },
  {
   "cell_type": "code",
   "execution_count": 12,
   "id": "03b10439",
   "metadata": {
    "execution": {
     "iopub.execute_input": "2024-02-08T15:50:15.468772Z",
     "iopub.status.busy": "2024-02-08T15:50:15.467626Z",
     "iopub.status.idle": "2024-02-08T15:50:15.473045Z",
     "shell.execute_reply": "2024-02-08T15:50:15.472463Z"
    }
   },
   "outputs": [],
   "source": [
    "count_probs = [counts[idx].get('1'*num_bits)/shots \\\n",
    "                for idx, num_bits in enumerate(bit_range)]\n",
    "\n",
    "quasi_probs = [quasis[idx].get('1'*num_bits) \\\n",
    "               for idx, num_bits in enumerate(bit_range)]"
   ]
  },
  {
   "cell_type": "markdown",
   "id": "3e13427f",
   "metadata": {},
   "source": [
    "## Plot the results"
   ]
  },
  {
   "cell_type": "code",
   "execution_count": 13,
   "id": "e89513e8",
   "metadata": {
    "execution": {
     "iopub.execute_input": "2024-02-08T15:50:15.477393Z",
     "iopub.status.busy": "2024-02-08T15:50:15.476260Z",
     "iopub.status.idle": "2024-02-08T15:50:15.644640Z",
     "shell.execute_reply": "2024-02-08T15:50:15.644133Z"
    }
   },
   "outputs": [
    {
     "data": {
      "image/png": "[encoded data removed]",
      "text/plain": [
       "<Figure size 432x288 with 1 Axes>"
      ]
     },
     "metadata": {
      "needs_background": "light"
     },
     "output_type": "display_data"
    }
   ],
   "source": [
    "fig, ax = plt.subplots()\n",
    "ax.plot(bit_range, count_probs, label='Raw')\n",
    "ax.plot(bit_range, quasi_probs, label='Mitigated')\n",
    "ax.set_ylabel('Success probability')\n",
    "ax.set_xlabel('Bit-string length')\n",
    "ax.legend();"
   ]
  },
  {
   "cell_type": "code",
   "execution_count": null,
   "id": "9c9a22bd",
   "metadata": {},
   "outputs": [],
   "source": []
  }
 ],
 "metadata": {
  "kernelspec": {
   "display_name": "Python 3 (ipykernel)",
   "language": "python",
   "name": "python3"
  },
  "language_info": {
   "codemirror_mode": {
    "name": "ipython",
    "version": 3
   },
   "file_extension": ".py",
   "mimetype": "text/x-python",
   "name": "python",
   "nbconvert_exporter": "python",
   "pygments_lexer": "ipython3",
   "version": "3.9.16"
  }
 },
 "nbformat": 4,
 "nbformat_minor": 5
}
