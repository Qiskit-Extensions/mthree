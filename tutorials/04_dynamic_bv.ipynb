{
 "cells": [
  {
   "cell_type": "markdown",
   "id": "10752407",
   "metadata": {},
   "source": [
    "# Dynamic Bernstein–Vazirani\n",
    "\n",
    "Here we will demonstrate correcting mid-circuit measurements using the dynamic version of the Bernstein-Vazirani algorithm."
   ]
  },
  {
   "cell_type": "markdown",
   "id": "85182300",
   "metadata": {},
   "source": [
    "## Frontmatter"
   ]
  },
  {
   "cell_type": "code",
   "execution_count": 1,
   "id": "266cc8a8",
   "metadata": {
    "execution": {
     "iopub.execute_input": "2024-02-08T16:36:46.886105Z",
     "iopub.status.busy": "2024-02-08T16:36:46.885832Z",
     "iopub.status.idle": "2024-02-08T16:36:48.024809Z",
     "shell.execute_reply": "2024-02-08T16:36:48.024039Z"
    }
   },
   "outputs": [],
   "source": [
    "import numpy as np\n",
    "\n",
    "from qiskit import *\n",
    "from qiskit_ibm_runtime.fake_provider import FakeKolkata, FakeKolkataV2\n",
    "\n",
    "import mthree\n",
    "\n",
    "import matplotlib.pyplot as plt\n",
    "plt.style.use('quantum-light')"
   ]
  },
  {
   "cell_type": "markdown",
   "id": "f525e286",
   "metadata": {},
   "source": [
    "Set target noisy simulator"
   ]
  },
  {
   "cell_type": "code",
   "execution_count": 2,
   "id": "58ffe72d",
   "metadata": {
    "execution": {
     "iopub.execute_input": "2024-02-08T16:36:48.027807Z",
     "iopub.status.busy": "2024-02-08T16:36:48.027531Z",
     "iopub.status.idle": "2024-02-08T16:36:48.032798Z",
     "shell.execute_reply": "2024-02-08T16:36:48.032259Z"
    }
   },
   "outputs": [],
   "source": [
    "backend = FakeKolkata()"
   ]
  },
  {
   "cell_type": "markdown",
   "id": "bf4a7348",
   "metadata": {},
   "source": [
    "## Circuit generation function"
   ]
  },
  {
   "cell_type": "code",
   "execution_count": 3,
   "id": "a13ef235",
   "metadata": {
    "execution": {
     "iopub.execute_input": "2024-02-08T16:36:48.034982Z",
     "iopub.status.busy": "2024-02-08T16:36:48.034799Z",
     "iopub.status.idle": "2024-02-08T16:36:48.039306Z",
     "shell.execute_reply": "2024-02-08T16:36:48.038746Z"
    }
   },
   "outputs": [],
   "source": [
    "def dynamic_bv(bitstring):\n",
    "    \"\"\"Create a Bernstein-Vazirani circuit from a given bitstring.\n",
    "\n",
    "    Parameters:\n",
    "        bitstring (str): A bitstring.\n",
    "\n",
    "    Returns:\n",
    "        QuantumCircuit: Output circuit.\n",
    "    \"\"\"\n",
    "    qc = QuantumCircuit(2, len(bitstring))\n",
    "\n",
    "    # Prepare the |-x> state on target qubit\n",
    "    qc.x(1)\n",
    "    qc.h(1)\n",
    "\n",
    "    # For each bit (0 or 1) build a simple circuit block\n",
    "    for idx, bit in enumerate(bitstring[::-1]):\n",
    "\n",
    "        # Initial H gate on control\n",
    "        qc.h(0)\n",
    "        # If bit=1, do a CNOT gate\n",
    "        if int(bit):\n",
    "            qc.cx(0, 1)\n",
    "        # Final H gate to convert phase to computational-basis\n",
    "        qc.h(0)\n",
    "        # Measure\n",
    "        qc.measure(0, idx)\n",
    "\n",
    "        # If not at the final bit, recycle and reset qubits\n",
    "        if idx != (len(bitstring)-1):\n",
    "            # Reset control qubit for reuse\n",
    "            qc.reset(0)\n",
    "            # reset target qubit to minimize dephasing\n",
    "            qc.reset(1)\n",
    "            # Prepare the |-x> state on target qubit again\n",
    "            qc.x(1)\n",
    "            qc.h(1)\n",
    "\n",
    "    return qc"
   ]
  },
  {
   "cell_type": "markdown",
   "id": "7b6bdda5",
   "metadata": {},
   "source": [
    "## Problem setup\n",
    "\n",
    "First we select a range of bit-string lengths to generate.  We then use this range to make all-ones bit-string circuits of those lengths."
   ]
  },
  {
   "cell_type": "code",
   "execution_count": 4,
   "id": "4035c605",
   "metadata": {
    "execution": {
     "iopub.execute_input": "2024-02-08T16:36:48.041472Z",
     "iopub.status.busy": "2024-02-08T16:36:48.041288Z",
     "iopub.status.idle": "2024-02-08T16:36:48.084166Z",
     "shell.execute_reply": "2024-02-08T16:36:48.083630Z"
    }
   },
   "outputs": [],
   "source": [
    "bit_range = range(2, 31)\n",
    "\n",
    "circs = [dynamic_bv('1'*N) for N in bit_range]"
   ]
  },
  {
   "cell_type": "markdown",
   "id": "0af63b89",
   "metadata": {},
   "source": [
    "Next, we transpile the circuits for our target backend (simulator in this case):"
   ]
  },
  {
   "cell_type": "code",
   "execution_count": 5,
   "id": "d0b0a248",
   "metadata": {
    "execution": {
     "iopub.execute_input": "2024-02-08T16:36:48.086582Z",
     "iopub.status.busy": "2024-02-08T16:36:48.086387Z",
     "iopub.status.idle": "2024-02-08T16:36:49.484671Z",
     "shell.execute_reply": "2024-02-08T16:36:49.484000Z"
    }
   },
   "outputs": [],
   "source": [
    "trans_circs = transpile(circs, backend, optimization_level=3)"
   ]
  },
  {
   "cell_type": "markdown",
   "id": "351abdbd",
   "metadata": {},
   "source": [
    "Next, we determine which qubits are measured to which classical bits using the `final_measurement_mapping` utility:"
   ]
  },
  {
   "cell_type": "code",
   "execution_count": 6,
   "id": "6a4f0e3c",
   "metadata": {
    "execution": {
     "iopub.execute_input": "2024-02-08T16:36:49.487684Z",
     "iopub.status.busy": "2024-02-08T16:36:49.487474Z",
     "iopub.status.idle": "2024-02-08T16:36:49.498844Z",
     "shell.execute_reply": "2024-02-08T16:36:49.498187Z"
    }
   },
   "outputs": [
    {
     "data": {
      "text/plain": [
       "[{0: 25, 1: 25}, {0: 25, 1: 25, 2: 25}, {0: 25, 1: 25, 2: 25, 3: 25}]"
      ]
     },
     "execution_count": 6,
     "metadata": {},
     "output_type": "execute_result"
    }
   ],
   "source": [
    "mappings = mthree.utils.final_measurement_mapping(trans_circs)\n",
    "# Show a few of the mappings\n",
    "mappings[:3]"
   ]
  },
  {
   "cell_type": "markdown",
   "id": "3ccc9c1f",
   "metadata": {},
   "source": [
    "Lets draw the 0th circuit to verify that the mapping is indeed correct:"
   ]
  },
  {
   "cell_type": "code",
   "execution_count": 7,
   "id": "a726d241",
   "metadata": {
    "execution": {
     "iopub.execute_input": "2024-02-08T16:36:49.501188Z",
     "iopub.status.busy": "2024-02-08T16:36:49.500986Z",
     "iopub.status.idle": "2024-02-08T16:36:49.814737Z",
     "shell.execute_reply": "2024-02-08T16:36:49.814026Z"
    }
   },
   "outputs": [
    {
     "data": {
      "image/png": "[encoded data removed]",
      "text/plain": [
       "<Figure size 1040.65x204.68 with 1 Axes>"
      ]
     },
     "execution_count": 7,
     "metadata": {},
     "output_type": "execute_result"
    }
   ],
   "source": [
    "trans_circs[0].draw('mpl', idle_wires=False)"
   ]
  },
  {
   "cell_type": "markdown",
   "id": "a0083079",
   "metadata": {},
   "source": [
    "## Run experiment and mitigate\n",
    "\n",
    "Here we execute the dynamic BV ciruits at 10,000 shots each."
   ]
  },
  {
   "cell_type": "code",
   "execution_count": 8,
   "id": "39192677",
   "metadata": {
    "execution": {
     "iopub.execute_input": "2024-02-08T16:36:49.817328Z",
     "iopub.status.busy": "2024-02-08T16:36:49.817130Z",
     "iopub.status.idle": "2024-02-08T16:37:03.091923Z",
     "shell.execute_reply": "2024-02-08T16:37:03.091171Z"
    }
   },
   "outputs": [],
   "source": [
    "shots = int(1e4)\n",
    "counts = backend.run(trans_circs, shots=shots).result().get_counts()"
   ]
  },
  {
   "cell_type": "markdown",
   "id": "82097098",
   "metadata": {},
   "source": [
    "Next we follow the usual M3 receipe to mitigate the counts.  Note that the `mappings`\n",
    "have all the necessary information for correcting mid-circuit measurements."
   ]
  },
  {
   "cell_type": "code",
   "execution_count": 9,
   "id": "592d0854",
   "metadata": {
    "execution": {
     "iopub.execute_input": "2024-02-08T16:37:03.094856Z",
     "iopub.status.busy": "2024-02-08T16:37:03.094649Z",
     "iopub.status.idle": "2024-02-08T16:37:03.097595Z",
     "shell.execute_reply": "2024-02-08T16:37:03.096951Z"
    }
   },
   "outputs": [],
   "source": [
    "mit = mthree.M3Mitigation(backend)"
   ]
  },
  {
   "cell_type": "code",
   "execution_count": 10,
   "id": "d4be2c97",
   "metadata": {
    "execution": {
     "iopub.execute_input": "2024-02-08T16:37:03.099702Z",
     "iopub.status.busy": "2024-02-08T16:37:03.099502Z",
     "iopub.status.idle": "2024-02-08T16:37:03.435081Z",
     "shell.execute_reply": "2024-02-08T16:37:03.434352Z"
    }
   },
   "outputs": [],
   "source": [
    "mit.cals_from_system(mappings)"
   ]
  },
  {
   "cell_type": "code",
   "execution_count": 11,
   "id": "aff1709b",
   "metadata": {
    "execution": {
     "iopub.execute_input": "2024-02-08T16:37:03.437923Z",
     "iopub.status.busy": "2024-02-08T16:37:03.437717Z",
     "iopub.status.idle": "2024-02-08T16:37:03.474245Z",
     "shell.execute_reply": "2024-02-08T16:37:03.473585Z"
    }
   },
   "outputs": [],
   "source": [
    "quasis = mit.apply_correction(counts, mappings)"
   ]
  },
  {
   "cell_type": "markdown",
   "id": "2c4ec256",
   "metadata": {},
   "source": [
    "Because we generated all-ones bit-strings, our success criteria is the probability of being found in that state.  We can extract this probabilty from both the raw counts and the mitigated quasi-distributions"
   ]
  },
  {
   "cell_type": "code",
   "execution_count": 12,
   "id": "03b10439",
   "metadata": {
    "execution": {
     "iopub.execute_input": "2024-02-08T16:37:03.478905Z",
     "iopub.status.busy": "2024-02-08T16:37:03.477777Z",
     "iopub.status.idle": "2024-02-08T16:37:03.483291Z",
     "shell.execute_reply": "2024-02-08T16:37:03.482674Z"
    }
   },
   "outputs": [],
   "source": [
    "count_probs = [counts[idx].get('1'*num_bits)/shots \\\n",
    "                for idx, num_bits in enumerate(bit_range)]\n",
    "\n",
    "quasi_probs = [quasis[idx].get('1'*num_bits) \\\n",
    "               for idx, num_bits in enumerate(bit_range)]"
   ]
  },
  {
   "cell_type": "markdown",
   "id": "3e13427f",
   "metadata": {},
   "source": [
    "## Plot the results"
   ]
  },
  {
   "cell_type": "code",
   "execution_count": 13,
   "id": "e89513e8",
   "metadata": {
    "execution": {
     "iopub.execute_input": "2024-02-08T16:37:03.487576Z",
     "iopub.status.busy": "2024-02-08T16:37:03.486454Z",
     "iopub.status.idle": "2024-02-08T16:37:03.680464Z",
     "shell.execute_reply": "2024-02-08T16:37:03.679784Z"
    }
   },
   "outputs": [
    {
     "data": {
      "image/png": "[encoded data removed]",
      "text/plain": [
       "<Figure size 432x288 with 1 Axes>"
      ]
     },
     "metadata": {
      "needs_background": "light"
     },
     "output_type": "display_data"
    }
   ],
   "source": [
    "fig, ax = plt.subplots()\n",
    "ax.plot(bit_range, count_probs, label='Raw')\n",
    "ax.plot(bit_range, quasi_probs, label='Mitigated')\n",
    "ax.set_ylabel('Success probability')\n",
    "ax.set_xlabel('Bit-string length')\n",
    "ax.legend();"
   ]
  },
  {
   "cell_type": "code",
   "execution_count": null,
   "id": "9c9a22bd",
   "metadata": {},
   "outputs": [],
   "source": []
  }
 ],
 "metadata": {
  "kernelspec": {
   "display_name": "Python 3 (ipykernel)",
   "language": "python",
   "name": "python3"
  },
  "language_info": {
   "codemirror_mode": {
    "name": "ipython",
    "version": 3
   },
   "file_extension": ".py",
   "mimetype": "text/x-python",
   "name": "python",
   "nbconvert_exporter": "python",
   "pygments_lexer": "ipython3",
   "version": "3.9.16"
  }
 },
 "nbformat": 4,
 "nbformat_minor": 5
}
