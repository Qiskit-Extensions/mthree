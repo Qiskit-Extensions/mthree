{
 "cells": [
  {
   "cell_type": "markdown",
   "id": "43f3f626",
   "metadata": {},
   "source": [
    "# Mitigating sampling problems\n",
    "\n",
    "There are many cases where one is interested in computing the most probable bitstring in the output distribution from a circuit.  Although, M3 returns quasi-probabilities, the most likely bit-string is something that is always positive, and we can mitigate sampling problems of this form.  Below is a simple example for Bernstein–Vazirani (BV) circuits."
   ]
  },
  {
   "cell_type": "markdown",
   "id": "faf78437",
   "metadata": {},
   "source": [
    "## Frontmatter"
   ]
  },
  {
   "cell_type": "code",
   "execution_count": 1,
   "id": "0d41ee42",
   "metadata": {
    "execution": {
     "iopub.execute_input": "2024-02-08T19:12:37.312203Z",
     "iopub.status.busy": "2024-02-08T19:12:37.311963Z",
     "iopub.status.idle": "2024-02-08T19:12:38.449343Z",
     "shell.execute_reply": "2024-02-08T19:12:38.448661Z"
    }
   },
   "outputs": [],
   "source": [
    "from qiskit import *\n",
    "from qiskit_ibm_runtime.fake_provider import FakeKolkata\n",
    "\n",
    "import mthree\n",
    "\n",
    "import matplotlib.pyplot as plt\n",
    "plt.style.use('quantum-light')"
   ]
  },
  {
   "cell_type": "code",
   "execution_count": 2,
   "id": "ee597ad5",
   "metadata": {
    "execution": {
     "iopub.execute_input": "2024-02-08T19:12:38.452354Z",
     "iopub.status.busy": "2024-02-08T19:12:38.452081Z",
     "iopub.status.idle": "2024-02-08T19:12:38.456764Z",
     "shell.execute_reply": "2024-02-08T19:12:38.456266Z"
    }
   },
   "outputs": [],
   "source": [
    "backend = FakeKolkata()"
   ]
  },
  {
   "cell_type": "markdown",
   "id": "eafbbf6f",
   "metadata": {},
   "source": [
    "## Setup experiment\n",
    "\n",
    "Here we generate BV circuits for all-ones bit-strings of various lengths, and transpile them against our target backend.  We also create a (not-rigourous) function that finds the most likely bit-string from a distribution."
   ]
  },
  {
   "cell_type": "code",
   "execution_count": 3,
   "id": "8765752b",
   "metadata": {
    "execution": {
     "iopub.execute_input": "2024-02-08T19:12:38.459031Z",
     "iopub.status.busy": "2024-02-08T19:12:38.458842Z",
     "iopub.status.idle": "2024-02-08T19:12:38.463737Z",
     "shell.execute_reply": "2024-02-08T19:12:38.463100Z"
    }
   },
   "outputs": [],
   "source": [
    "def bv_ones_circs(N):\n",
    "    \"\"\"Create a Bernstein–Vazirani (BV) circuit of width N\n",
    "    \n",
    "    Here the bit-string length is N-1\n",
    "    \n",
    "    Parameters:\n",
    "        N (int): Number of qubits in circuit\n",
    "        \n",
    "    Returns:\n",
    "        QuantumCircuit: BV circuit\n",
    "    \"\"\"\n",
    "    qc = QuantumCircuit(N, N-1)\n",
    "    qc.x(N-1)\n",
    "    qc.h(range(N))\n",
    "    qc.cx(range(N-1), N-1)\n",
    "    qc.h(range(N-1))\n",
    "    qc.barrier()\n",
    "    qc.measure(range(N-1), range(N-1))\n",
    "    return qc\n",
    "\n",
    "\n",
    "def most_likely_bitstring(dist):\n",
    "    \"\"\"Computes the most likely bit-string from a given distribution\n",
    "    \n",
    "    Parameters:\n",
    "        dist (dict): Input distribution\n",
    "        \n",
    "    Returns:\n",
    "        str: Most likely bit-string\n",
    "        int, float: Most likely value\n",
    "    \"\"\"\n",
    "    sorted_dist = dict(sorted(dist.items(), key=lambda item: item[1], reverse=True))\n",
    "    key = next(iter(sorted_dist.keys()))\n",
    "    val = next(iter(sorted_dist.values()))\n",
    "    return key, val"
   ]
  },
  {
   "cell_type": "code",
   "execution_count": 4,
   "id": "6dae48a2",
   "metadata": {
    "execution": {
     "iopub.execute_input": "2024-02-08T19:12:38.465992Z",
     "iopub.status.busy": "2024-02-08T19:12:38.465806Z",
     "iopub.status.idle": "2024-02-08T19:12:38.472458Z",
     "shell.execute_reply": "2024-02-08T19:12:38.471828Z"
    }
   },
   "outputs": [],
   "source": [
    "bit_range = range(2, 13)\n",
    "\n",
    "circs = [bv_ones_circs(N+1) for N in bit_range]"
   ]
  },
  {
   "cell_type": "code",
   "execution_count": 5,
   "id": "3fa878bc",
   "metadata": {
    "execution": {
     "iopub.execute_input": "2024-02-08T19:12:38.474673Z",
     "iopub.status.busy": "2024-02-08T19:12:38.474489Z",
     "iopub.status.idle": "2024-02-08T19:12:39.197708Z",
     "shell.execute_reply": "2024-02-08T19:12:39.196934Z"
    }
   },
   "outputs": [],
   "source": [
    "trans_circs = transpile(circs, backend, optimization_level=3)"
   ]
  },
  {
   "cell_type": "markdown",
   "id": "b4c3ffb3",
   "metadata": {},
   "source": [
    "## Perform experiment\n",
    "\n",
    "We generate the raw data for the circuits, and then perform our mitigation in the usual way."
   ]
  },
  {
   "cell_type": "code",
   "execution_count": 6,
   "id": "45a3d55d",
   "metadata": {
    "execution": {
     "iopub.execute_input": "2024-02-08T19:12:39.200851Z",
     "iopub.status.busy": "2024-02-08T19:12:39.200622Z",
     "iopub.status.idle": "2024-02-08T19:13:22.945187Z",
     "shell.execute_reply": "2024-02-08T19:13:22.944575Z"
    }
   },
   "outputs": [],
   "source": [
    "shots = 8192\n",
    "counts = backend.run(trans_circs, shots=shots).result().get_counts()"
   ]
  },
  {
   "cell_type": "markdown",
   "id": "07c46949",
   "metadata": {},
   "source": [
    "Get the success probability, validating that our returned bit-string is what we expect."
   ]
  },
  {
   "cell_type": "code",
   "execution_count": 7,
   "id": "58a21b32",
   "metadata": {
    "execution": {
     "iopub.execute_input": "2024-02-08T19:13:22.948157Z",
     "iopub.status.busy": "2024-02-08T19:13:22.947959Z",
     "iopub.status.idle": "2024-02-08T19:13:22.951697Z",
     "shell.execute_reply": "2024-02-08T19:13:22.950945Z"
    }
   },
   "outputs": [],
   "source": [
    "raw_success_probs = []\n",
    "\n",
    "for idx, num_bits in enumerate(bit_range):\n",
    "    max_bitstring, max_value = most_likely_bitstring(counts[idx])\n",
    "    if max_bitstring != '1'*num_bits:\n",
    "        raise Exception('Returned wrong bit-string')\n",
    "    raw_success_probs.append(max_value/shots)"
   ]
  },
  {
   "cell_type": "code",
   "execution_count": 8,
   "id": "fe41dbda",
   "metadata": {
    "execution": {
     "iopub.execute_input": "2024-02-08T19:13:22.953801Z",
     "iopub.status.busy": "2024-02-08T19:13:22.953602Z",
     "iopub.status.idle": "2024-02-08T19:13:22.956447Z",
     "shell.execute_reply": "2024-02-08T19:13:22.955811Z"
    }
   },
   "outputs": [],
   "source": [
    "mit = mthree.M3Mitigation(backend)"
   ]
  },
  {
   "cell_type": "code",
   "execution_count": 9,
   "id": "e8a48d65",
   "metadata": {
    "execution": {
     "iopub.execute_input": "2024-02-08T19:13:22.958619Z",
     "iopub.status.busy": "2024-02-08T19:13:22.958424Z",
     "iopub.status.idle": "2024-02-08T19:13:22.961485Z",
     "shell.execute_reply": "2024-02-08T19:13:22.960870Z"
    }
   },
   "outputs": [],
   "source": [
    "mappings = mthree.utils.final_measurement_mapping(trans_circs)"
   ]
  },
  {
   "cell_type": "code",
   "execution_count": 10,
   "id": "34c20334",
   "metadata": {
    "execution": {
     "iopub.execute_input": "2024-02-08T19:13:22.963652Z",
     "iopub.status.busy": "2024-02-08T19:13:22.963468Z",
     "iopub.status.idle": "2024-02-08T19:13:23.630705Z",
     "shell.execute_reply": "2024-02-08T19:13:23.630026Z"
    }
   },
   "outputs": [],
   "source": [
    "mit.cals_from_system(mappings)"
   ]
  },
  {
   "cell_type": "code",
   "execution_count": 11,
   "id": "3092a76a",
   "metadata": {
    "execution": {
     "iopub.execute_input": "2024-02-08T19:13:23.633377Z",
     "iopub.status.busy": "2024-02-08T19:13:23.633181Z",
     "iopub.status.idle": "2024-02-08T19:13:23.644058Z",
     "shell.execute_reply": "2024-02-08T19:13:23.643405Z"
    }
   },
   "outputs": [],
   "source": [
    "quasis = mit.apply_correction(counts, mappings)"
   ]
  },
  {
   "cell_type": "markdown",
   "id": "409f4771",
   "metadata": {},
   "source": [
    "Get the mitigated success probability, validating that our returned bit-string is what we expect."
   ]
  },
  {
   "cell_type": "code",
   "execution_count": 12,
   "id": "c547dd1e",
   "metadata": {
    "execution": {
     "iopub.execute_input": "2024-02-08T19:13:23.647297Z",
     "iopub.status.busy": "2024-02-08T19:13:23.646845Z",
     "iopub.status.idle": "2024-02-08T19:13:23.651250Z",
     "shell.execute_reply": "2024-02-08T19:13:23.650613Z"
    }
   },
   "outputs": [],
   "source": [
    "mit_success_probs = []\n",
    "\n",
    "for idx, num_bits in enumerate(bit_range):\n",
    "    max_bitstring, max_value = most_likely_bitstring(quasis[idx])\n",
    "    if max_bitstring != '1'*num_bits:\n",
    "        raise Exception('Returned wrong bit-string')\n",
    "    mit_success_probs.append(max_value)"
   ]
  },
  {
   "cell_type": "markdown",
   "id": "d099e9e0",
   "metadata": {},
   "source": [
    "## Plot results\n",
    "\n",
    "Here we plot the results"
   ]
  },
  {
   "cell_type": "code",
   "execution_count": 13,
   "id": "40654bec",
   "metadata": {
    "execution": {
     "iopub.execute_input": "2024-02-08T19:13:23.654142Z",
     "iopub.status.busy": "2024-02-08T19:13:23.653693Z",
     "iopub.status.idle": "2024-02-08T19:13:23.836862Z",
     "shell.execute_reply": "2024-02-08T19:13:23.836164Z"
    }
   },
   "outputs": [
    {
     "data": {
      "image/png": "[encoded data removed]",
      "text/plain": [
       "<Figure size 432x288 with 1 Axes>"
      ]
     },
     "metadata": {
      "needs_background": "light"
     },
     "output_type": "display_data"
    }
   ],
   "source": [
    "fig, ax = plt.subplots()\n",
    "ax.plot(bit_range, raw_success_probs, label='Raw')\n",
    "ax.plot(bit_range, mit_success_probs, label='Mitigated')\n",
    "ax.set_ylabel('Success probability')\n",
    "ax.set_xlabel('Bit-string length')\n",
    "ax.legend();"
   ]
  },
  {
   "cell_type": "code",
   "execution_count": null,
   "id": "67e3a76e",
   "metadata": {},
   "outputs": [],
   "source": []
  }
 ],
 "metadata": {
  "kernelspec": {
   "display_name": "Python 3 (ipykernel)",
   "language": "python",
   "name": "python3"
  },
  "language_info": {
   "codemirror_mode": {
    "name": "ipython",
    "version": 3
   },
   "file_extension": ".py",
   "mimetype": "text/x-python",
   "name": "python",
   "nbconvert_exporter": "python",
   "pygments_lexer": "ipython3",
   "version": "3.9.16"
  }
 },
 "nbformat": 4,
 "nbformat_minor": 5
}
