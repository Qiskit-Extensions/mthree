{
 "cells": [
  {
   "cell_type": "markdown",
   "id": "43f3f626",
   "metadata": {},
   "source": [
    "# Mitigating sampling problems\n",
    "\n",
    "There are many cases where one is interested in computing the most probable bitstring in the output distribution from a circuit.  Although, M3 returns quasi-probabilities, the most likely bit-string is something that is always positive, and we can mitigate sampling problems of this form.  Below is a simple example for Bernstein–Vazirani (BV) circuits."
   ]
  },
  {
   "cell_type": "markdown",
   "id": "faf78437",
   "metadata": {},
   "source": [
    "## Frontmatter"
   ]
  },
  {
   "cell_type": "code",
   "execution_count": 1,
   "id": "0d41ee42",
   "metadata": {
    "execution": {
     "iopub.execute_input": "2024-02-08T16:35:20.056259Z",
     "iopub.status.busy": "2024-02-08T16:35:20.056063Z",
     "iopub.status.idle": "2024-02-08T16:35:21.213946Z",
     "shell.execute_reply": "2024-02-08T16:35:21.213189Z"
    }
   },
   "outputs": [],
   "source": [
    "from qiskit import *\n",
    "from qiskit_ibm_runtime.fake_provider import FakeKolkata\n",
    "\n",
    "import mthree\n",
    "\n",
    "import matplotlib.pyplot as plt\n",
    "plt.style.use('quantum-light')"
   ]
  },
  {
   "cell_type": "code",
   "execution_count": 2,
   "id": "ee597ad5",
   "metadata": {
    "execution": {
     "iopub.execute_input": "2024-02-08T16:35:21.217110Z",
     "iopub.status.busy": "2024-02-08T16:35:21.216824Z",
     "iopub.status.idle": "2024-02-08T16:35:21.221455Z",
     "shell.execute_reply": "2024-02-08T16:35:21.220948Z"
    }
   },
   "outputs": [],
   "source": [
    "backend = FakeKolkata()"
   ]
  },
  {
   "cell_type": "markdown",
   "id": "eafbbf6f",
   "metadata": {},
   "source": [
    "## Setup experiment\n",
    "\n",
    "Here we generate BV circuits for all-ones bit-strings of various lengths, and transpile them against our target backend.  We also create a (not-rigourous) function that finds the most likely bit-string from a distribution."
   ]
  },
  {
   "cell_type": "code",
   "execution_count": 3,
   "id": "8765752b",
   "metadata": {
    "execution": {
     "iopub.execute_input": "2024-02-08T16:35:21.223695Z",
     "iopub.status.busy": "2024-02-08T16:35:21.223495Z",
     "iopub.status.idle": "2024-02-08T16:35:21.228410Z",
     "shell.execute_reply": "2024-02-08T16:35:21.227856Z"
    }
   },
   "outputs": [],
   "source": [
    "def bv_ones_circs(N):\n",
    "    \"\"\"Create a Bernstein–Vazirani (BV) circuit of width N\n",
    "    \n",
    "    Here the bit-string length is N-1\n",
    "    \n",
    "    Parameters:\n",
    "        N (int): Number of qubits in circuit\n",
    "        \n",
    "    Returns:\n",
    "        QuantumCircuit: BV circuit\n",
    "    \"\"\"\n",
    "    qc = QuantumCircuit(N, N-1)\n",
    "    qc.x(N-1)\n",
    "    qc.h(range(N))\n",
    "    qc.cx(range(N-1), N-1)\n",
    "    qc.h(range(N-1))\n",
    "    qc.barrier()\n",
    "    qc.measure(range(N-1), range(N-1))\n",
    "    return qc\n",
    "\n",
    "\n",
    "def most_likely_bitstring(dist):\n",
    "    \"\"\"Computes the most likely bit-string from a given distribution\n",
    "    \n",
    "    Parameters:\n",
    "        dist (dict): Input distribution\n",
    "        \n",
    "    Returns:\n",
    "        str: Most likely bit-string\n",
    "        int, float: Most likely value\n",
    "    \"\"\"\n",
    "    sorted_dist = dict(sorted(dist.items(), key=lambda item: item[1], reverse=True))\n",
    "    key = next(iter(sorted_dist.keys()))\n",
    "    val = next(iter(sorted_dist.values()))\n",
    "    return key, val"
   ]
  },
  {
   "cell_type": "code",
   "execution_count": 4,
   "id": "6dae48a2",
   "metadata": {
    "execution": {
     "iopub.execute_input": "2024-02-08T16:35:21.230583Z",
     "iopub.status.busy": "2024-02-08T16:35:21.230397Z",
     "iopub.status.idle": "2024-02-08T16:35:21.237095Z",
     "shell.execute_reply": "2024-02-08T16:35:21.236475Z"
    }
   },
   "outputs": [],
   "source": [
    "bit_range = range(2, 13)\n",
    "\n",
    "circs = [bv_ones_circs(N+1) for N in bit_range]"
   ]
  },
  {
   "cell_type": "code",
   "execution_count": 5,
   "id": "3fa878bc",
   "metadata": {
    "execution": {
     "iopub.execute_input": "2024-02-08T16:35:21.239342Z",
     "iopub.status.busy": "2024-02-08T16:35:21.239139Z",
     "iopub.status.idle": "2024-02-08T16:35:21.973621Z",
     "shell.execute_reply": "2024-02-08T16:35:21.972768Z"
    }
   },
   "outputs": [],
   "source": [
    "trans_circs = transpile(circs, backend, optimization_level=3)"
   ]
  },
  {
   "cell_type": "markdown",
   "id": "b4c3ffb3",
   "metadata": {},
   "source": [
    "## Perform experiment\n",
    "\n",
    "We generate the raw data for the circuits, and then perform our mitigation in the usual way."
   ]
  },
  {
   "cell_type": "code",
   "execution_count": 6,
   "id": "45a3d55d",
   "metadata": {
    "execution": {
     "iopub.execute_input": "2024-02-08T16:35:21.976921Z",
     "iopub.status.busy": "2024-02-08T16:35:21.976626Z",
     "iopub.status.idle": "2024-02-08T16:36:13.989694Z",
     "shell.execute_reply": "2024-02-08T16:36:13.988982Z"
    }
   },
   "outputs": [],
   "source": [
    "shots = 8192\n",
    "counts = backend.run(trans_circs, shots=shots).result().get_counts()"
   ]
  },
  {
   "cell_type": "markdown",
   "id": "07c46949",
   "metadata": {},
   "source": [
    "Get the success probability, validating that our returned bit-string is what we expect."
   ]
  },
  {
   "cell_type": "code",
   "execution_count": 7,
   "id": "58a21b32",
   "metadata": {
    "execution": {
     "iopub.execute_input": "2024-02-08T16:36:13.992581Z",
     "iopub.status.busy": "2024-02-08T16:36:13.992341Z",
     "iopub.status.idle": "2024-02-08T16:36:13.995990Z",
     "shell.execute_reply": "2024-02-08T16:36:13.995369Z"
    }
   },
   "outputs": [],
   "source": [
    "raw_success_probs = []\n",
    "\n",
    "for idx, num_bits in enumerate(bit_range):\n",
    "    max_bitstring, max_value = most_likely_bitstring(counts[idx])\n",
    "    if max_bitstring != '1'*num_bits:\n",
    "        raise Exception('Returned wrong bit-string')\n",
    "    raw_success_probs.append(max_value/shots)"
   ]
  },
  {
   "cell_type": "code",
   "execution_count": 8,
   "id": "fe41dbda",
   "metadata": {
    "execution": {
     "iopub.execute_input": "2024-02-08T16:36:13.998134Z",
     "iopub.status.busy": "2024-02-08T16:36:13.997949Z",
     "iopub.status.idle": "2024-02-08T16:36:14.000608Z",
     "shell.execute_reply": "2024-02-08T16:36:14.000053Z"
    }
   },
   "outputs": [],
   "source": [
    "mit = mthree.M3Mitigation(backend)"
   ]
  },
  {
   "cell_type": "code",
   "execution_count": 9,
   "id": "e8a48d65",
   "metadata": {
    "execution": {
     "iopub.execute_input": "2024-02-08T16:36:14.002706Z",
     "iopub.status.busy": "2024-02-08T16:36:14.002510Z",
     "iopub.status.idle": "2024-02-08T16:36:14.005652Z",
     "shell.execute_reply": "2024-02-08T16:36:14.005075Z"
    }
   },
   "outputs": [],
   "source": [
    "mappings = mthree.utils.final_measurement_mapping(trans_circs)"
   ]
  },
  {
   "cell_type": "code",
   "execution_count": 10,
   "id": "34c20334",
   "metadata": {
    "execution": {
     "iopub.execute_input": "2024-02-08T16:36:14.007733Z",
     "iopub.status.busy": "2024-02-08T16:36:14.007536Z",
     "iopub.status.idle": "2024-02-08T16:36:14.695963Z",
     "shell.execute_reply": "2024-02-08T16:36:14.695272Z"
    }
   },
   "outputs": [],
   "source": [
    "mit.cals_from_system(mappings)"
   ]
  },
  {
   "cell_type": "code",
   "execution_count": 11,
   "id": "3092a76a",
   "metadata": {
    "execution": {
     "iopub.execute_input": "2024-02-08T16:36:14.698818Z",
     "iopub.status.busy": "2024-02-08T16:36:14.698625Z",
     "iopub.status.idle": "2024-02-08T16:36:14.709288Z",
     "shell.execute_reply": "2024-02-08T16:36:14.708632Z"
    }
   },
   "outputs": [],
   "source": [
    "quasis = mit.apply_correction(counts, mappings)"
   ]
  },
  {
   "cell_type": "markdown",
   "id": "409f4771",
   "metadata": {},
   "source": [
    "Get the mitigated success probability, validating that our returned bit-string is what we expect."
   ]
  },
  {
   "cell_type": "code",
   "execution_count": 12,
   "id": "c547dd1e",
   "metadata": {
    "execution": {
     "iopub.execute_input": "2024-02-08T16:36:14.713782Z",
     "iopub.status.busy": "2024-02-08T16:36:14.712623Z",
     "iopub.status.idle": "2024-02-08T16:36:14.718310Z",
     "shell.execute_reply": "2024-02-08T16:36:14.717724Z"
    }
   },
   "outputs": [],
   "source": [
    "mit_success_probs = []\n",
    "\n",
    "for idx, num_bits in enumerate(bit_range):\n",
    "    max_bitstring, max_value = most_likely_bitstring(quasis[idx])\n",
    "    if max_bitstring != '1'*num_bits:\n",
    "        raise Exception('Returned wrong bit-string')\n",
    "    mit_success_probs.append(max_value)"
   ]
  },
  {
   "cell_type": "markdown",
   "id": "d099e9e0",
   "metadata": {},
   "source": [
    "## Plot results\n",
    "\n",
    "Here we plot the results"
   ]
  },
  {
   "cell_type": "code",
   "execution_count": 13,
   "id": "40654bec",
   "metadata": {
    "execution": {
     "iopub.execute_input": "2024-02-08T16:36:14.722640Z",
     "iopub.status.busy": "2024-02-08T16:36:14.721507Z",
     "iopub.status.idle": "2024-02-08T16:36:15.023886Z",
     "shell.execute_reply": "2024-02-08T16:36:15.023195Z"
    }
   },
   "outputs": [
    {
     "data": {
      "image/png": "[encoded data removed]",
      "text/plain": [
       "<Figure size 432x288 with 1 Axes>"
      ]
     },
     "metadata": {
      "needs_background": "light"
     },
     "output_type": "display_data"
    }
   ],
   "source": [
    "fig, ax = plt.subplots()\n",
    "ax.plot(bit_range, raw_success_probs, label='Raw')\n",
    "ax.plot(bit_range, mit_success_probs, label='Mitigated')\n",
    "ax.set_ylabel('Success probability')\n",
    "ax.set_xlabel('Bit-string length')\n",
    "ax.legend();"
   ]
  },
  {
   "cell_type": "code",
   "execution_count": null,
   "id": "67e3a76e",
   "metadata": {},
   "outputs": [],
   "source": []
  }
 ],
 "metadata": {
  "kernelspec": {
   "display_name": "Python 3 (ipykernel)",
   "language": "python",
   "name": "python3"
  },
  "language_info": {
   "codemirror_mode": {
    "name": "ipython",
    "version": 3
   },
   "file_extension": ".py",
   "mimetype": "text/x-python",
   "name": "python",
   "nbconvert_exporter": "python",
   "pygments_lexer": "ipython3",
   "version": "3.9.16"
  }
 },
 "nbformat": 4,
 "nbformat_minor": 5
}
